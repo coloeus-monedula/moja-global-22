{
 "cells": [
  {
   "cell_type": "markdown",
   "id": "3ca4e48c",
   "metadata": {},
   "source": [
    "<!--bibtex\n",
    "\n",
    "\n",
    "@Article{f10100849,\n",
    "AUTHOR = {Jaroszewicz, Bogdan and Cholewińska, Olga and Gutowski, Jerzy M. and Samojlik, Tomasz and Zimny, Marcelina and Latałowa, Małgorzata},\n",
    "TITLE = {Białowieża Forest—A Relic of the High Naturalness of European Forests},\n",
    "JOURNAL = {Forests},\n",
    "VOLUME = {10},\n",
    "YEAR = {2019},\n",
    "NUMBER = {10},\n",
    "ARTICLE-NUMBER = {849},\n",
    "URL = {https://www.mdpi.com/1999-4907/10/10/849},\n",
    "ISSN = {1999-4907},\n",
    "ABSTRACT = {In Europe only some small isolated patches of forests with a high degree of naturalness still exist. These are forests, whose structure, composition and function has been shaped by natural dynamics without substantial anthropogenic influence over the long period. In this respect, Białowieża Forest is a unique location in Europe, with continuous forest cover for close to 12,000 years. The palynological, archaeological and historical data document only a weak anthropogenic fingerprint compared to other European lowland forests in Holocene history. Due to long-lasting protection, a large portion of the forest is still composed of stands originating from the pre-silvicultural period. Moreover, the stands of Białowieża Forest converted by silvicultural activities during the 20th century have the potential to recover owing to patches of stands with high naturalness, scattered throughout the forest. As conflict over management of the forest has recurred regularly for close to century, there is a need to summarize our knowledge on the forest history and natural assets, to help making scientifically informed decisions over its future. Expansion of a non-intervention approach to the Polish part of the forest is suggested to increase the stability of the entire ecosystem and enhance the chances for its successful adaptation to changing environmental conditions. This will increase the importance of Białowieża Forest as an open-door laboratory for biology, ecology, and forestry.},\n",
    "DOI = {10.3390/f10100849}\n",
    "}\n",
    "\n",
    "@article{MIKUSINSKI2018266,\n",
    "title = {Is the impact of loggings in the last primeval lowland forest in Europe underestimated? The conservation issues of Białowieża Forest},\n",
    "journal = {Biological Conservation},\n",
    "volume = {227},\n",
    "pages = {266-274},\n",
    "year = {2018},\n",
    "issn = {0006-3207},\n",
    "doi = {https://doi.org/10.1016/j.biocon.2018.09.001},\n",
    "url = {https://www.sciencedirect.com/science/article/pii/S0006320717321390},\n",
    "author = {Mikusiński,Grzegorz and Bubnicki,Jakub Witold and Churski,Marcin and Czeszczewik,Dorota and Walankiewicz,Wiesław and Kuijper,Dries P.J.},\n",
    "keywords = {Salvage logging, Core area, Forest biodiversity, Landscape effects},\n",
    "abstract = {Loggings in biodiversity hot-spots are perceived as very serious threat to forest species and habitats of high conservation interest. In this paper we scrutinize the spatial impacts of recent loggings in the Polish part of the renowned Białowieża Forest being the last remaining area of lowland temperate forest with a primeval character in Europe with the status of World Heritage and Natura 2000 site. The loggings have been applied in order to cope with the outbreak of the spruce bark beetle Ips typographus. We used satellite images to perform cover change detection analysis that delineated areas being logged in Białowieża Forest between July 2015 and June 2018. Next, we assessed the extent of forest loss in areas with different management regimes as well as landscape-scale impacts. The total area of detected clear-cuts amounted to at least 675 ha, including 229 ha of old-growth stands. Assuming a buffer of 100 m from the edge of cleared forest patches, the cumulative direct and indirect impact of recent logging activities was estimated to amount to at least 4073 ha of affected forest. Logging activities resulted in a 26% increase in fragmentation in the entire Natura 2000 area. We argue that the ecological impact of logging extends beyond the logged areas by modifying the landscape structure and affecting ecosystem functioning on a landscape scale. As such, the recent salvage loggings in the Białowieża Forest clearly damaged the conservation value of this precious area, not in the least by increasing its fragmentation. To avoid further degradation, we strongly argue for allowing natural tree regeneration on clear cuts and also for the extension of Białowieża National Park to cover the entire forested area.}\n",
    "}\n",
    "\n",
    "... Other Bibtex entries go here.\n",
    "\n",
    "-->"
   ]
  },
  {
   "cell_type": "markdown",
   "id": "ac5fc999",
   "metadata": {},
   "source": [
    "<a name=\"ref-1\"/>[(Jaroszewicz et al., 2019)](#cite-f10100849)"
   ]
  },
  {
   "cell_type": "markdown",
   "id": "c675f98a",
   "metadata": {},
   "source": [
    "# References\n",
    "\n",
    "<a name=\"cite-f10100849\"/><sup>[^](#ref-1) </sup>Jaroszewicz, Bogdan and Cholewińska, Olga and Gutowski, Jerzy M. and Samojlik, Tomasz and Zimny, Marcelina and Latałowa, Małgorzata. 2019. _Białowieża Forest—A Relic of the High Naturalness of European Forests_. [URL](https://www.mdpi.com/1999-4907/10/10/849)\n",
    "\n"
   ]
  }
 ],
 "metadata": {
  "kernelspec": {
   "display_name": "Python 3 (ipykernel)",
   "language": "python",
   "name": "python3"
  },
  "language_info": {
   "codemirror_mode": {
    "name": "ipython",
    "version": 3
   },
   "file_extension": ".py",
   "mimetype": "text/x-python",
   "name": "python",
   "nbconvert_exporter": "python",
   "pygments_lexer": "ipython3",
   "version": "3.10.2"
  }
 },
 "nbformat": 4,
 "nbformat_minor": 5
}
